{
 "cells": [
  {
   "attachments": {},
   "cell_type": "raw",
   "metadata": {},
   "source": [
    "--- \n",
    "author: Angel Alcala Ruiz\n",
    "date: November 20, 2023\n",
    "format:\n",
    "    html:\n",
    "        code-fold: false\n",
    "--- "
   ]
  },
  {
   "attachments": {},
   "cell_type": "markdown",
   "metadata": {},
   "source": [
    "### Problem 4: Largest Palindrome Product"
   ]
  },
  {
   "attachments": {},
   "cell_type": "markdown",
   "metadata": {},
   "source": [
    "A palindromic number reads the same both ways. The largest palindrome made from the product of two 2-digit numbers is 9009 = 91 × 99.\n",
    "\n",
    "Find the largest palindrome made from the product of two 3-digit numbers."
   ]
  },
  {
   "attachments": {},
   "cell_type": "markdown",
   "metadata": {},
   "source": [
    "Let's solve this problem using **Julia**"
   ]
  },
  {
   "cell_type": "code",
   "execution_count": 31,
   "metadata": {},
   "outputs": [
    {
     "data": {
      "text/plain": [
       "IsPalindrome (generic function with 1 method)"
      ]
     },
     "metadata": {},
     "output_type": "display_data"
    }
   ],
   "source": [
    "function IsPalindrome(n)\n",
    "\n",
    "#' @@name IsPalindrome\n",
    "#' \n",
    "#' @@description \n",
    "#' \n",
    "#' This functtion checks whether a positve integer n is a palindromic number\n",
    "#'\n",
    "#' @@arg n: A positive integer n \n",
    "#'\n",
    "#' @@return true or false  \n",
    "#'\n",
    "#' @@examples\n",
    "#' \n",
    "#' n = 1009001\n",
    "#' IsPalindrome(n)\n",
    "\n",
    "    function array_to_int(A)\n",
    "    # This function converts an array to an integer\n",
    "        n = 0\n",
    "        l = length(A)\n",
    "        for i = 1:l\n",
    "            n += A[i]*10^(l - i)\n",
    "        end\n",
    "        return n\n",
    "    end\n",
    "\n",
    "    function int_to_array(n)\n",
    "    # This function converts an integer to an array\n",
    "        vec = []\n",
    "        while true\n",
    "            digit = n%10\n",
    "            vec = push!(vec,digit)\n",
    "            n = trunc(Int, floor(n/10))\n",
    "            if n < 1\n",
    "                break\n",
    "            end\n",
    "        end\n",
    "        vec = reverse(vec)\n",
    "        return vec\n",
    "    end\n",
    "\n",
    "    # n gets updated so we have to fix m for a condition\n",
    "    m = n\n",
    "    bool = false\n",
    "\n",
    "    vec = int_to_array(n)\n",
    "    vec = reverse(vec)\n",
    "    new_n = array_to_int(vec)\n",
    "\n",
    "    if m == new_n\n",
    "        bool = true\n",
    "    end\n",
    "\n",
    "    return bool\n",
    "end"
   ]
  },
  {
   "cell_type": "code",
   "execution_count": 32,
   "metadata": {},
   "outputs": [
    {
     "data": {
      "text/plain": [
       "LargestPalindrome (generic function with 1 method)"
      ]
     },
     "metadata": {},
     "output_type": "display_data"
    }
   ],
   "source": [
    "function LargestPalindrome(digits)\n",
    "\n",
    "#' @@name LargestPalindrome\n",
    "#'\n",
    "#' @@description\n",
    "#'\n",
    "#' This function finds the largest palindrome product of two numbers of either 2, 3, or 4 digits\n",
    "#'\n",
    "#' @@arg digits: The number digits of the two numbers being multiplied for the palindrome product\n",
    "#'\n",
    "#' @@return The largest palindrome product\n",
    "#'\n",
    "#' @@examples\n",
    "#'\n",
    "#' digits = 2\n",
    "#' LargestPalindrome(digits) \n",
    "\n",
    "    if digits == 2\n",
    "        limit = 99\n",
    "    elseif digits == 3\n",
    "        limit = 999\n",
    "    elseif digits == 4\n",
    "        limit = 9999\n",
    "    else\n",
    "        println(\"Invalid number of digits\") \n",
    "    end\n",
    "\n",
    "    largest_palin = 0\n",
    "    product1 = 0\n",
    "    product2 = 0\n",
    "\n",
    "    for i = 1:limit\n",
    "        for j = 1:limit\n",
    "            product = i*j\n",
    "            if IsPalindrome(product)\n",
    "                if product > largest_palin\n",
    "                    largest_palin = product\n",
    "                    product1 = i\n",
    "                    product2 = j\n",
    "                end\n",
    "            end\n",
    "        end\n",
    "    end\n",
    "\n",
    "    return largest_palin, product1, product2\n",
    "end"
   ]
  },
  {
   "attachments": {},
   "cell_type": "markdown",
   "metadata": {},
   "source": [
    "Let's now test our code with the product of two 2-digit numbers"
   ]
  },
  {
   "cell_type": "code",
   "execution_count": 33,
   "metadata": {},
   "outputs": [
    {
     "data": {
      "text/plain": [
       "(9009, 91, 99)"
      ]
     },
     "metadata": {},
     "output_type": "display_data"
    }
   ],
   "source": [
    "LargestPalindrome(2)"
   ]
  },
  {
   "attachments": {},
   "cell_type": "markdown",
   "metadata": {},
   "source": [
    "Therefore we can see that the largest palindromic number from the product of two 2-digit numbers is $9009 = 91 \\times 99$."
   ]
  },
  {
   "attachments": {},
   "cell_type": "markdown",
   "metadata": {},
   "source": [
    "Now let's find the largest palindromic number that's formed by the product of two 3-digit numbers"
   ]
  },
  {
   "cell_type": "code",
   "execution_count": 34,
   "metadata": {},
   "outputs": [
    {
     "data": {
      "text/plain": [
       "(906609, 913, 993)"
      ]
     },
     "metadata": {},
     "output_type": "display_data"
    }
   ],
   "source": [
    "LargestPalindrome(3)"
   ]
  },
  {
   "attachments": {},
   "cell_type": "markdown",
   "metadata": {},
   "source": [
    "Therefore the largest palindromic number from the product of two 3-digit numbers is $906609 = 913 \\times 993$"
   ]
  },
  {
   "attachments": {},
   "cell_type": "markdown",
   "metadata": {},
   "source": [
    "Now let's just find the largest palindromic number from the product of two 4-digit numbers"
   ]
  },
  {
   "cell_type": "code",
   "execution_count": 35,
   "metadata": {},
   "outputs": [
    {
     "data": {
      "text/plain": [
       "(99000099, 9901, 9999)"
      ]
     },
     "metadata": {},
     "output_type": "display_data"
    }
   ],
   "source": [
    "LargestPalindrome(4)"
   ]
  },
  {
   "attachments": {},
   "cell_type": "markdown",
   "metadata": {},
   "source": [
    "Therefore the largest palindromic number from the product of two 4-digit numbers is $99000099 = 9901 \\times 9999$."
   ]
  }
 ],
 "metadata": {
  "kernelspec": {
   "display_name": "Julia 1.8.3",
   "language": "julia",
   "name": "julia-1.8"
  },
  "language_info": {
   "file_extension": ".jl",
   "mimetype": "application/julia",
   "name": "julia",
   "version": "1.8.3"
  },
  "orig_nbformat": 4
 },
 "nbformat": 4,
 "nbformat_minor": 2
}
